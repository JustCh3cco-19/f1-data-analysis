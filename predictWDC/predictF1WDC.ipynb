{
 "cells": [
  {
   "cell_type": "markdown",
   "metadata": {},
   "source": [
    "# Who can still win the F1 WDC between all drivers?\n",
    "\n",
    "This notebook calculate which drivers still has chance to win the WDC. Is simplified because it doesn't compare positions if points are equal.\n"
   ]
  },
  {
   "cell_type": "code",
   "execution_count": 13,
   "metadata": {},
   "outputs": [],
   "source": [
    "import fastf1\n",
    "from fastf1.ergast import Ergast\n",
    "import requests"
   ]
  },
  {
   "cell_type": "markdown",
   "metadata": {},
   "source": [
    "In this case, we are looking at current (2024) season. We want to know who can still win the WDC after Monza race (actually the last race).\n"
   ]
  },
  {
   "cell_type": "code",
   "execution_count": 14,
   "metadata": {},
   "outputs": [],
   "source": [
    "# Setting up season and round\n",
    "SEASON = 2024\n",
    "ROUND = 16  # Monza Race"
   ]
  },
  {
   "cell_type": "markdown",
   "metadata": {},
   "source": [
    "Here we retrieve driver standings from Ergast API.\n"
   ]
  },
  {
   "cell_type": "code",
   "execution_count": 15,
   "metadata": {},
   "outputs": [],
   "source": [
    "# Function to retrieve current driver standings\n",
    "def getDriversStandings():\n",
    "    ergast = Ergast()\n",
    "    standings = ergast.get_driver_standings(season=SEASON, round=ROUND)\n",
    "    return standings.content[0]"
   ]
  },
  {
   "cell_type": "markdown",
   "metadata": {},
   "source": [
    "This function below we calculate how many points are left for the remaining season.\n"
   ]
  },
  {
   "cell_type": "code",
   "execution_count": 16,
   "metadata": {},
   "outputs": [],
   "source": [
    "# Calculate how many points are left for the remaining season\n",
    "def calculateMaxPointsForRemaingSeason():\n",
    "    POINTS_FOR_SPRINT = 8 + 25 + 1\n",
    "    # Winning the sprint race, Sunday race and do the fastest lap\n",
    "    POINTS_CONVENTIONAL_RACE = 25 + 1  # Winning the Sunday race and do the fastest lap\n",
    "\n",
    "    events = fastf1.events.get_event_schedule(SEASON, backend=\"fastf1\")\n",
    "    events = events[events[\"RoundNumber\"] > ROUND]\n",
    "\n",
    "    # Count how many sprint and conventional races are left\n",
    "    sprintRace = len(events.loc[events[\"EventFormat\"] == \"sprint_shootout\"])\n",
    "    conventionalRace = len(events.loc[events[\"EventFormat\"] == \"conventional\"])\n",
    "\n",
    "    # Calculate points for each event\n",
    "    sprintPoints = sprintRace * POINTS_FOR_SPRINT\n",
    "    conventionalPoints = conventionalRace * POINTS_CONVENTIONAL_RACE\n",
    "\n",
    "    return sprintPoints + conventionalPoints"
   ]
  },
  {
   "cell_type": "markdown",
   "metadata": {},
   "source": [
    "This function below calculates who can still win the WDC.\n"
   ]
  },
  {
   "cell_type": "code",
   "execution_count": 17,
   "metadata": {},
   "outputs": [],
   "source": [
    "# Calculate who can still win the WDC\n",
    "def calculateDriverWhoCanWin(driverStandings, maxPoints):\n",
    "    LEADER_POINTS = int(driverStandings.loc[0][\"points\"])\n",
    "\n",
    "    for i, _ in enumerate(driverStandings.iterrows()):\n",
    "        driver = driverStandings.loc[i]\n",
    "        driverMaxPoints = int(driver[\"points\"]) + maxPoints\n",
    "        canWin = \"No\" if driverMaxPoints < LEADER_POINTS else \"Yes\"\n",
    "\n",
    "        print(\n",
    "            f\"{driver['position']}: {driver['givenName'] + ' ' + driver['familyName']}, \"\n",
    "            f\"Current points: {driver['points']}, \"\n",
    "            f\"Theoretical max points: {driverMaxPoints}, \"\n",
    "            f\"Can win: {canWin}\"\n",
    "        )"
   ]
  },
  {
   "cell_type": "markdown",
   "metadata": {},
   "source": [
    "Here we can call function to predict who can still win the WDC.\n"
   ]
  },
  {
   "cell_type": "code",
   "execution_count": null,
   "metadata": {},
   "outputs": [],
   "source": [
    "# Call the functions to predict who can still win the WDC\n",
    "\n",
    "# Get the current drivers standings\n",
    "driver_standings = getDriversStandings()\n",
    "\n",
    "# Get the maximum amount of points\n",
    "points = calculateMaxPointsForRemaingSeason()\n",
    "\n",
    "# Print which drivers can still win\n",
    "calculateDriverWhoCanWin(driver_standings, points)"
   ]
  }
 ],
 "metadata": {
  "kernelspec": {
   "display_name": "ProgettiPersonali",
   "language": "python",
   "name": "python3"
  },
  "language_info": {
   "codemirror_mode": {
    "name": "ipython",
    "version": 3
   },
   "file_extension": ".py",
   "mimetype": "text/x-python",
   "name": "python",
   "nbconvert_exporter": "python",
   "pygments_lexer": "ipython3",
   "version": "3.12.5"
  }
 },
 "nbformat": 4,
 "nbformat_minor": 2
}
